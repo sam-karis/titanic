{
 "cells": [
  {
   "cell_type": "code",
   "execution_count": 1,
   "metadata": {},
   "outputs": [
    {
     "name": "stdout",
     "output_type": "stream",
     "text": [
      "train.csv: Skipping, found more recently modified local copy (use --force to force download)\n",
      "test.csv: Skipping, found more recently modified local copy (use --force to force download)\n",
      "gender_submission.csv: Skipping, found more recently modified local copy (use --force to force download)\n"
     ]
    }
   ],
   "source": [
    "# Download the data\n",
    "!kaggle competitions download  -c titanic -p ../data/raw/"
   ]
  },
  {
   "cell_type": "code",
   "execution_count": 2,
   "metadata": {},
   "outputs": [],
   "source": [
    "from dotenv import load_dotenv, find_dotenv\n",
    "import os\n",
    "import requests\n",
    "from requests import session"
   ]
  },
  {
   "cell_type": "code",
   "execution_count": 3,
   "metadata": {},
   "outputs": [
    {
     "data": {
      "text/plain": [
       "True"
      ]
     },
     "execution_count": 3,
     "metadata": {},
     "output_type": "execute_result"
    }
   ],
   "source": [
    "# get dotenv path and load variables\n",
    "dotenv_path = find_dotenv()\n",
    "load_dotenv(dotenv_path)"
   ]
  },
  {
   "cell_type": "code",
   "execution_count": 4,
   "metadata": {},
   "outputs": [],
   "source": [
    "kaggle_username = os.environ.get('KAGGLE_USERNAME')\n",
    "kaggle_password = os.environ.get('KAGGLE_PASSWORD')\n",
    "kaggle_key = os.environ.get('KAGGLE_KEY')\n",
    "\n",
    "# kaggle login payload, urls\n",
    "payload = {\n",
    "    'action': 'login',\n",
    "    'UserName': kaggle_username,\n",
    "    'Password': kaggle_password\n",
    "}\n",
    "# login url\n",
    "login_url='https://www.kaggle.com/account/login'\n",
    "# data url\n",
    "train_data_url='https://www.kaggle.com/c/titanic/download/train.csv'\n",
    "test_data_url='https://www.kaggle.com/c/titanic/download/test.csv'\n",
    "submission_url='https://www.kaggle.com/c/titanic/download/gender_submission.csv'"
   ]
  },
  {
   "cell_type": "code",
   "execution_count": 5,
   "metadata": {},
   "outputs": [
    {
     "name": "stdout",
     "output_type": "stream",
     "text": [
      "<Response [400]>\n"
     ]
    }
   ],
   "source": [
    "with session() as c:\n",
    "    r = c.post(login_url, data=payload)\n",
    "    response = c.get(train_data_url)\n",
    "    print(r)"
   ]
  },
  {
   "cell_type": "code",
   "execution_count": null,
   "metadata": {},
   "outputs": [],
   "source": []
  }
 ],
 "metadata": {
  "kernelspec": {
   "display_name": "Python 3",
   "language": "python",
   "name": "python3"
  },
  "language_info": {
   "codemirror_mode": {
    "name": "ipython",
    "version": 3
   },
   "file_extension": ".py",
   "mimetype": "text/x-python",
   "name": "python",
   "nbconvert_exporter": "python",
   "pygments_lexer": "ipython3",
   "version": "3.7.2"
  }
 },
 "nbformat": 4,
 "nbformat_minor": 2
}
